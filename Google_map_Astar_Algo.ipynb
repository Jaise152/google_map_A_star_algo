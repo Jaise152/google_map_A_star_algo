{
  "cells": [
    {
      "cell_type": "markdown",
      "metadata": {
        "id": "view-in-github",
        "colab_type": "text"
      },
      "source": [
        "<a href=\"https://colab.research.google.com/github/Jaise152/google_map_A_star_algo/blob/main/Google_map_Astar_Algo.ipynb\" target=\"_parent\"><img src=\"https://colab.research.google.com/assets/colab-badge.svg\" alt=\"Open In Colab\"/></a>"
      ]
    },
    {
      "cell_type": "markdown",
      "metadata": {
        "id": "rWSj4V9mkfuX"
      },
      "source": [
        "<h3>Things to Follow</h3>\n",
        "\n",
        "1. Use appropriate data structures for the fringes and explain the reasoning behind the usage. You need not create data structures, instead use available libraries directly.\n",
        "\n",
        "2. Avoid any hard-coding unless absolutely necessary.\n",
        "\n",
        "3. Provide proper documentation\n",
        "\n",
        "4. Read the question file provided carefully and attempt all the questions! "
      ]
    },
    {
      "cell_type": "markdown",
      "metadata": {
        "id": "kN7HZWE7kfua"
      },
      "source": [
        "Coding begins now!!!"
      ]
    },
    {
      "cell_type": "markdown",
      "metadata": {
        "id": "_r36zR2vkfub"
      },
      "source": [
        "1) Define the environment representation in the following code block"
      ]
    },
    {
      "cell_type": "raw",
      "metadata": {
        "id": "so7ZsnAOkfub"
      },
      "source": [
        "# Environment is static (environment doesn't change, as agent deliberating), \n",
        "# discrete (we only have few discrete states) \n",
        "# and sequential (each next action is affected by current action taken by the agent\n",
        "\n",
        "\n"
      ]
    },
    {
      "cell_type": "code",
      "execution_count": null,
      "metadata": {
        "id": "Fn9HKFNNkfuc"
      },
      "outputs": [],
      "source": [
        "# Performance: path taken from panji to chennai is ['Panji', 'Bellari', 'Tirupati', 'Chennai']\n",
        "# Environment: Geographical information regarding the cities and corresponding distance to the neighbouring cities\n",
        "# Actuators: graph implementation using adjacency matrix.\n",
        "# Sensors: information regrading the current state and goal state.\n"
      ]
    },
    {
      "cell_type": "markdown",
      "metadata": {
        "id": "7-YiJUGkkfud"
      },
      "source": [
        "Define the haversine formula and what it does"
      ]
    },
    {
      "cell_type": "raw",
      "metadata": {
        "id": "ZqFcSH4fkfud"
      },
      "source": [
        "# haversine formula is used to calculate the great-circle distance between\n",
        "# two points – that is, the shortest distance over the earth’s surface between two points based on the latitude and the longitude information."
      ]
    },
    {
      "cell_type": "code",
      "execution_count": null,
      "metadata": {
        "id": "rCzrX_U9kfue"
      },
      "outputs": [],
      "source": [
        ""
      ]
    },
    {
      "cell_type": "code",
      "execution_count": null,
      "metadata": {
        "id": "F05m-C6Tkfuf"
      },
      "outputs": [],
      "source": [
        "import collections\n",
        "import math\n",
        "import numpy as np\n",
        "import networkx as nx\n",
        "from queue import PriorityQueue"
      ]
    },
    {
      "cell_type": "markdown",
      "metadata": {
        "id": "PXp7BUinkfuf"
      },
      "source": [
        "2) Define a function which calculates the heuristic distance from each city to the destination city in the following code block"
      ]
    },
    {
      "cell_type": "code",
      "execution_count": null,
      "metadata": {
        "id": "h5ZnV0Ygkfug"
      },
      "outputs": [],
      "source": [
        "Cordinates = {\n",
        "    'Panji':[15.4909,73.8278],\n",
        "    'Raichur':[16.2076,77.3463],\n",
        "    'Mangalore':[12.9141,74.8560],\n",
        "    'Bellari':[15.1394,76.9214],\n",
        "    'Tirupati':[13.6288, 79.4192],\n",
        "    'Kurnool':[15.8281,78.0373],\n",
        "    'Kozhikode':[ 11.2588,75.7804],\n",
        "    'Bangalore':[ 12.9716,77.5946],\n",
        "    'Nellore':[ 14.4426,79.9865],\n",
        "    'Chennai':[13.0827,80.2707]\n",
        "    }"
      ]
    },
    {
      "cell_type": "code",
      "execution_count": null,
      "metadata": {
        "id": "P6RFNFY9kfug"
      },
      "outputs": [],
      "source": [
        "class Hurestic:\n",
        "    def __init__(self,start,goal):\n",
        "        self.start = start\n",
        "        self.goal = goal\n",
        "\n",
        "\n",
        "#Function to get cordinates of a city\n",
        "    def cord(city):\n",
        "        lat1, long1 = (Cordinates[city][0], Cordinates[city][1])\n",
        "        return lat1,long1\n",
        "\n",
        "#Function to calculate the hurestic\n",
        "    def distance(origin, destination):\n",
        "        lat1, lon1 = Hurestic.cord(origin)\n",
        "        lat2, lon2 = Hurestic.cord(destination)\n",
        "        radius = 6371 # km\n",
        "\n",
        "        dlat = math.radians(lat2-lat1)\n",
        "        dlon = math.radians(lon2-lon1)\n",
        "        a = math.sin(dlat/2) * math.sin(dlat/2) + math.cos(math.radians(lat1)) \\\n",
        "            * math.cos(math.radians(lat2)) * math.sin(dlon/2) * math.sin(dlon/2)\n",
        "        c = 2 * math.atan2(math.sqrt(a), math.sqrt(1-a))\n",
        "        d = radius * c\n",
        "\n",
        "        return d\n",
        "    def huresticvalue(start,goal):\n",
        "        H={}\n",
        "        for i in Cities:\n",
        "            H[i] = Hurestic.distance(i,goal)\n",
        "        return H\n",
        "# The given cities\n",
        "Cities = Cordinates.keys()"
      ]
    },
    {
      "cell_type": "markdown",
      "metadata": {
        "id": "RkhiC_GEkfuh"
      },
      "source": [
        "3) Implementation of A* Algorithm . Feel free to add code blocks for each methods needed starting here.\n",
        "Please modularize the implementation of A* and write each of them in a code block. "
      ]
    },
    {
      "cell_type": "code",
      "execution_count": null,
      "metadata": {
        "id": "LEUv_6tQkfuh"
      },
      "outputs": [],
      "source": [
        "#Creating graph for the given road network\n",
        "class Vertex:\n",
        "    def __init__(self, n):\n",
        "        self.name = n\n",
        "class Graph:\n",
        "    vertices = {}\n",
        "    edges = []\n",
        "    edge_indices = {}\n",
        "    def add_vertex(self, vertex):\n",
        "        if isinstance(vertex, Vertex) and vertex.name not in self.vertices:\n",
        "            self.vertices[vertex.name] = vertex\n",
        "            for row in self.edges:\n",
        "                row.append(0)\n",
        "            self.edges.append([0] * (len(self.edges)+1))\n",
        "            self.edge_indices[vertex.name] = len(self.edge_indices)\n",
        "            return True\n",
        "        else:\n",
        "            return False\n",
        "    def add_edge(self, u, v, weight):\n",
        "        if u in self.vertices and v in self.vertices:\n",
        "            self.edges[self.edge_indices[u]][self.edge_indices[v]] = weight\n",
        "            self.edges[self.edge_indices[v]][self.edge_indices[u]] = weight\n",
        "            return True\n",
        "        else:\n",
        "            return False\n",
        "    def print_graph(self):\n",
        "        for v, i in sorted(self.edge_indices.items()):\n",
        "            print(v + ' ', end='')\n",
        "            for j in range(len(self.edges)):\n",
        "                print(self.edges[i][j], end='')\n",
        "            print(' ')\n",
        "            \n",
        "    def neighbour(self,edge):\n",
        "        b = []\n",
        "        for i in Cities:\n",
        "            if self.edges[self.edge_indices[i]][self.edge_indices[edge]] > 0:\n",
        "                b.append(i)\n",
        "        return b\n",
        "    \n",
        "    def cost(self,u,v):\n",
        "        x = self.edges[self.edge_indices[u]][self.edge_indices[v]]\n",
        "        return x"
      ]
    },
    {
      "cell_type": "code",
      "execution_count": null,
      "metadata": {
        "id": "cFQxspikkfui"
      },
      "outputs": [],
      "source": [
        "g = Graph()"
      ]
    },
    {
      "cell_type": "code",
      "execution_count": null,
      "metadata": {
        "id": "qV9paj5hkfui"
      },
      "outputs": [],
      "source": [
        "for i in Cities:\n",
        "    g.add_vertex(Vertex(i))"
      ]
    },
    {
      "cell_type": "code",
      "execution_count": null,
      "metadata": {
        "id": "MYOaRqAqkfuj",
        "outputId": "00f86ddd-e327-4040-9a68-875a55908a97"
      },
      "outputs": [
        {
          "data": {
            "text/plain": [
              "True"
            ]
          },
          "execution_count": 8,
          "metadata": {},
          "output_type": "execute_result"
        }
      ],
      "source": [
        "g.add_edge('Panji','Raichur',457)\n",
        "g.add_edge('Panji','Mangalore',365)\n",
        "g.add_edge('Panji','Bellari',409)\n",
        "g.add_edge('Raichur','Kurnool',100)\n",
        "g.add_edge('Raichur','Tirupati',453)\n",
        "g.add_edge('Mangalore','Bangalore',352)\n",
        "g.add_edge('Mangalore','Kozhikode',233)\n",
        "g.add_edge('Bellari','Tirupati',379)\n",
        "g.add_edge('Bellari','Bangalore',311)\n",
        "g.add_edge('Kurnool','Tirupati',340)\n",
        "g.add_edge('Kurnool','Nellore',325)\n",
        "g.add_edge('Tirupati','Nellore',136)\n",
        "g.add_edge('Tirupati','Chennai',153)\n",
        "g.add_edge('Bangalore','Kozhikode',356)\n",
        "g.add_edge('Bangalore','Chennai',346)\n",
        "g.add_edge('Nellore','Chennai',175)"
      ]
    },
    {
      "cell_type": "code",
      "execution_count": null,
      "metadata": {
        "id": "VQfqkOxxkfuk"
      },
      "outputs": [],
      "source": [
        "def mincost (dist):\n",
        "    res =  [key for key in dist if \n",
        "        all(dist[temp] >= dist[key] \n",
        "        for temp in dist)] \n",
        "    \n",
        "    return res[0]"
      ]
    },
    {
      "cell_type": "code",
      "execution_count": null,
      "metadata": {
        "id": "nEKXsC_qkfuk"
      },
      "outputs": [],
      "source": [
        "def a_star_search(Graph, start, goal):\n",
        "    frontier = {start:0}\n",
        "    came_from = {}\n",
        "    cost_so_far = {}\n",
        "    came_from[start] = None\n",
        "    cost_so_far[start] = 0\n",
        "    path = []\n",
        "    count = 0\n",
        "    H = Hurestic.huresticvalue(start,goal)\n",
        "    #print(H)\n",
        "    #print(\"start = \"+ start)\n",
        "    while len(frontier)>0:\n",
        "        count = count +1\n",
        "        #print(\"Initial frontier = \", frontier)\n",
        "        current = mincost(frontier)\n",
        "        path.append(current)\n",
        "        #print(\"min from frontier = \"+ current)\n",
        "        if current == goal:\n",
        "            break\n",
        "        \n",
        "        #print(\"Neighbour ofcurrent frontier = \" , Graph.neighbour(current))\n",
        "        for next in Graph.neighbour(current):\n",
        "            new_cost = cost_so_far[current] + Graph.cost(current, next)\n",
        "            #print(\"Cost of neighbour  \",next,\"=\" , new_cost)\n",
        "            #print(type(new_cost))\n",
        "            if next not in cost_so_far or new_cost < cost_so_far[next]:\n",
        "                cost_so_far[next] = new_cost\n",
        "                #print(type(cost_so_far[next]))\n",
        "                #print(\"Huristic = \", H[next])\n",
        "                #print(type(H[next]))\n",
        "            priority = new_cost + H[next]\n",
        "            #print(\"Value of f = \", priority)\n",
        "            frontier[next] = priority\n",
        "            came_from[next] = current\n",
        "        frontier.pop(current)\n",
        "    return print(\"(3.1) Path taken is :\",path),print(\"(3.2) Cost of the path : \",cost_so_far[goal]),print(\"(3.3) Number of nodes visited to reach this state is :\", count)"
      ]
    },
    {
      "cell_type": "markdown",
      "metadata": {
        "id": "qrGXmDLGkfuk"
      },
      "source": [
        "Call your main function/algorithm block in the next code block with appropriate input representation"
      ]
    },
    {
      "cell_type": "code",
      "execution_count": null,
      "metadata": {
        "scrolled": true,
        "id": "6dYrLQHPkful",
        "outputId": "5eed1325-725e-420f-acac-359dffc13598"
      },
      "outputs": [
        {
          "name": "stdout",
          "output_type": "stream",
          "text": [
            "Bangalore 003523110035600346 \n",
            "Bellari 4090003790031100 \n",
            "Chennai 0000153003461750 \n",
            "Kozhikode 00233000035600 \n",
            "Kurnool 0100003400003250 \n",
            "Mangalore 3650000023335200 \n",
            "Nellore 0000136325000175 \n",
            "Panji 0457365409000000 \n",
            "Raichur 4570004531000000 \n",
            "Tirupati 04530379034000136153 \n"
          ]
        }
      ],
      "source": [
        "g.print_graph()"
      ]
    },
    {
      "cell_type": "code",
      "execution_count": null,
      "metadata": {
        "scrolled": true,
        "id": "SnJyS-86kful",
        "outputId": "eec6406c-d410-4f50-ea0f-157d0cbf3f82"
      },
      "outputs": [
        {
          "data": {
            "text/plain": [
              "[[0, 457, 365, 409, 0, 0, 0, 0, 0, 0],\n",
              " [457, 0, 0, 0, 453, 100, 0, 0, 0, 0],\n",
              " [365, 0, 0, 0, 0, 0, 233, 352, 0, 0],\n",
              " [409, 0, 0, 0, 379, 0, 0, 311, 0, 0],\n",
              " [0, 453, 0, 379, 0, 340, 0, 0, 136, 153],\n",
              " [0, 100, 0, 0, 340, 0, 0, 0, 325, 0],\n",
              " [0, 0, 233, 0, 0, 0, 0, 356, 0, 0],\n",
              " [0, 0, 352, 311, 0, 0, 356, 0, 0, 346],\n",
              " [0, 0, 0, 0, 136, 325, 0, 0, 0, 175],\n",
              " [0, 0, 0, 0, 153, 0, 0, 346, 175, 0]]"
            ]
          },
          "execution_count": 12,
          "metadata": {},
          "output_type": "execute_result"
        }
      ],
      "source": [
        "g.edges"
      ]
    },
    {
      "cell_type": "code",
      "execution_count": null,
      "metadata": {
        "scrolled": true,
        "id": "xIR8zE9qkful",
        "outputId": "0545abbd-f7c9-47b6-d87a-260f22d29f8d"
      },
      "outputs": [
        {
          "data": {
            "text/plain": [
              "{'Panji': 0,\n",
              " 'Raichur': 1,\n",
              " 'Mangalore': 2,\n",
              " 'Bellari': 3,\n",
              " 'Tirupati': 4,\n",
              " 'Kurnool': 5,\n",
              " 'Kozhikode': 6,\n",
              " 'Bangalore': 7,\n",
              " 'Nellore': 8,\n",
              " 'Chennai': 9}"
            ]
          },
          "execution_count": 13,
          "metadata": {},
          "output_type": "execute_result"
        }
      ],
      "source": [
        "g.edge_indices"
      ]
    },
    {
      "cell_type": "code",
      "execution_count": null,
      "metadata": {
        "id": "IwOBOF66kfum"
      },
      "outputs": [],
      "source": [
        "inv_edge = {v: k for k, v in g.edge_indices.items()}"
      ]
    },
    {
      "cell_type": "code",
      "execution_count": null,
      "metadata": {
        "scrolled": true,
        "id": "Sjx-NYOvkfum",
        "outputId": "df1e2619-7e22-48a8-968f-10003323ff4a"
      },
      "outputs": [
        {
          "data": {
            "image/png": "[encoded data removed]",
            "text/plain": [
              "<Figure size 432x288 with 1 Axes>"
            ]
          },
          "metadata": {},
          "output_type": "display_data"
        }
      ],
      "source": [
        "G = nx.from_numpy_matrix(np.array(g.edges)) \n",
        "nx.draw(G,labels=inv_edge, with_labels=True)"
      ]
    },
    {
      "cell_type": "markdown",
      "metadata": {
        "id": "YcbNvnA0kfum"
      },
      "source": [
        "The agent should provide expected output for questions mentioned below in the subsequent blocks"
      ]
    },
    {
      "cell_type": "markdown",
      "metadata": {
        "id": "8MJO5fzdkfum"
      },
      "source": [
        "(3.1) Path taken to reach destination from Panaji"
      ]
    },
    {
      "cell_type": "markdown",
      "metadata": {
        "id": "0_BfbUz_kfum"
      },
      "source": [
        "(3.2) Cost of the path"
      ]
    },
    {
      "cell_type": "markdown",
      "metadata": {
        "id": "If55dKLikfun"
      },
      "source": [
        "(3.3) Total Number of nodes vistied to get this state"
      ]
    },
    {
      "cell_type": "code",
      "execution_count": null,
      "metadata": {
        "id": "Ho18mwCukfun",
        "outputId": "cbb9ca16-92c7-48db-daae-42a6cc9364ab"
      },
      "outputs": [
        {
          "name": "stdout",
          "output_type": "stream",
          "text": [
            "(3.1) Path taken is : ['Panji', 'Bellari', 'Tirupati', 'Chennai']\n",
            "(3.2) Cost of the path :  941\n",
            "(3.3) Number of nodes visited to reach this state is : 4\n"
          ]
        },
        {
          "data": {
            "text/plain": [
              "(None, None, None)"
            ]
          },
          "execution_count": 17,
          "metadata": {},
          "output_type": "execute_result"
        }
      ],
      "source": [
        "#Computation call\n",
        "start = 'Panji'\n",
        "goal = 'Chennai'\n",
        "a_star_search(g,start,goal)"
      ]
    },
    {
      "cell_type": "markdown",
      "metadata": {
        "id": "o5LCdzy7kfun"
      },
      "source": [
        "<center>All the best!! Happy Coding!!Let human intelligence prevail</center>\n",
        "<center>**********************************************************</center>"
      ]
    }
  ],
  "metadata": {
    "kernelspec": {
      "display_name": "Python 3",
      "language": "python",
      "name": "python3"
    },
    "language_info": {
      "codemirror_mode": {
        "name": "ipython",
        "version": 3
      },
      "file_extension": ".py",
      "mimetype": "text/x-python",
      "name": "python",
      "nbconvert_exporter": "python",
      "pygments_lexer": "ipython3",
      "version": "3.8.8"
    },
    "colab": {
      "name": "Google_map_Astar_Algo.ipynb",
      "provenance": [],
      "include_colab_link": true
    }
  },
  "nbformat": 4,
  "nbformat_minor": 0
}